{
 "cells": [
  {
   "cell_type": "code",
   "execution_count": 2,
   "metadata": {},
   "outputs": [
    {
     "ename": "IndentationError",
     "evalue": "unexpected indent (<ipython-input-2-7d1b9fc9a1df>, line 3)",
     "output_type": "error",
     "traceback": [
      "\u001b[1;36m  File \u001b[1;32m\"<ipython-input-2-7d1b9fc9a1df>\"\u001b[1;36m, line \u001b[1;32m3\u001b[0m\n\u001b[1;33m    1. Sebutkan 3 jenis tipe variabel di dalam Python\u001b[0m\n\u001b[1;37m    ^\u001b[0m\n\u001b[1;31mIndentationError\u001b[0m\u001b[1;31m:\u001b[0m unexpected indent\n"
     ]
    }
   ],
   "source": [
    "# TUGAS 1\n",
    "\n",
    "  1. Sebutkan 3 jenis tipe variabel di dalam Python\n",
    "Jawab:  - Tipe variabel angka (cth : integer, float)\n",
    "        - Tipe variabel text (cth : char, string)\n",
    "        - Tipe variabel boolean\n",
    "        \n",
    "2. Jelaskan mengapa di Python ada aturan Indentation?\n",
    "Jawab: Dikarenakan pencipta Python menginginkan agar program yang dibuat dalam Python terlihat rapih, sehingga aturan indetation (menjorok kedalam minimal 4 karakter)harus dipatuhi agar tidak terjadi error saat menjalankan program\n",
    "    "
   ]
  },
  {
   "cell_type": "code",
   "execution_count": null,
   "metadata": {},
   "outputs": [],
   "source": [
    "n = int(input(\"Masukkan Nilai = \"))\n",
    "\n",
    "if(n % 2 == 0):\n",
    "    print(\"Bilangan Genap\")\n",
    "else:\n",
    "    print(\"Bilangan Ganjil\")"
   ]
  }
 ],
 "metadata": {
  "kernelspec": {
   "display_name": "Python 3",
   "language": "python",
   "name": "python3"
  },
  "language_info": {
   "codemirror_mode": {
    "name": "ipython",
    "version": 3
   },
   "file_extension": ".py",
   "mimetype": "text/x-python",
   "name": "python",
   "nbconvert_exporter": "python",
   "pygments_lexer": "ipython3",
   "version": "3.7.1"
  }
 },
 "nbformat": 4,
 "nbformat_minor": 2
}
